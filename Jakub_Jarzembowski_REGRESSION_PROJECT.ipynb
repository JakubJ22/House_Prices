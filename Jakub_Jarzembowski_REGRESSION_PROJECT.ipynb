{
 "cells": [
  {
   "cell_type": "markdown",
   "id": "27542cff",
   "metadata": {},
   "source": [
    "# The aim of this project is to predict house prices in Boston, using regression algorithms. Dataset includes data from 1960. "
   ]
  },
  {
   "cell_type": "code",
   "execution_count": 4,
   "id": "54e5d71b",
   "metadata": {},
   "outputs": [
    {
     "name": "stdout",
     "output_type": "stream",
     "text": [
      "Requirement already satisfied: xgboost in c:\\users\\kuba\\appdata\\local\\packages\\pythonsoftwarefoundation.python.3.9_qbz5n2kfra8p0\\localcache\\local-packages\\python39\\site-packages (1.6.2)\n",
      "Requirement already satisfied: numpy in c:\\users\\kuba\\appdata\\local\\packages\\pythonsoftwarefoundation.python.3.9_qbz5n2kfra8p0\\localcache\\local-packages\\python39\\site-packages (from xgboost) (1.21.4)\n",
      "Requirement already satisfied: scipy in c:\\users\\kuba\\appdata\\local\\packages\\pythonsoftwarefoundation.python.3.9_qbz5n2kfra8p0\\localcache\\local-packages\\python39\\site-packages (from xgboost) (1.9.1)\n",
      "Note: you may need to restart the kernel to use updated packages.\n"
     ]
    },
    {
     "name": "stderr",
     "output_type": "stream",
     "text": [
      "WARNING: You are using pip version 21.3.1; however, version 22.2.2 is available.\n",
      "You should consider upgrading via the 'C:\\Users\\Kuba\\AppData\\Local\\Microsoft\\WindowsApps\\PythonSoftwareFoundation.Python.3.9_qbz5n2kfra8p0\\python.exe -m pip install --upgrade pip' command.\n"
     ]
    }
   ],
   "source": [
    "pip install xgboost"
   ]
  },
  {
   "cell_type": "markdown",
   "id": "5d7a099d",
   "metadata": {},
   "source": [
    "# Imports"
   ]
  },
  {
   "cell_type": "code",
   "execution_count": 9,
   "id": "681bdbdf",
   "metadata": {},
   "outputs": [],
   "source": [
    "from sklearn.datasets import load_boston\n",
    "from sklearn.model_selection import train_test_split\n",
    "from sklearn.model_selection import GridSearchCV\n",
    "from sklearn.linear_model import LinearRegression\n",
    "from sklearn.tree import DecisionTreeRegressor\n",
    "from sklearn.ensemble import RandomForestRegressor\n",
    "from sklearn.metrics import mean_absolute_error as MAE\n",
    "from sklearn.metrics import r2_score\n",
    "from sklearn.metrics import mean_squared_error\n",
    "from sklearn.preprocessing import StandardScaler\n",
    "\n",
    "from xgboost import XGBRegressor\n",
    "\n",
    "from statsmodels.stats.outliers_influence import variance_inflation_factor\n",
    "\n",
    "import pandas as pd\n",
    "import matplotlib.pyplot as plt\n",
    "import seaborn as sns\n",
    "import numpy as np\n",
    "import statsmodels.api as sm\n",
    "import os"
   ]
  },
  {
   "cell_type": "markdown",
   "id": "b4081b5a",
   "metadata": {},
   "source": [
    "## Setting up local environment "
   ]
  },
  {
   "cell_type": "code",
   "execution_count": 10,
   "id": "38a47baa",
   "metadata": {},
   "outputs": [],
   "source": [
    "PROJECT_DIR = os.path.join(os.getcwd(),\"boston_housing_2022\")\n",
    "DATA_DIR = os.path.join(PROJECT_DIR,\"data\")\n",
    "PLOTS_DIR = os.path.join(PROJECT_DIR, \"plots\")\n",
    "os.makedirs(PLOTS_DIR, exist_ok=True)\n",
    "os.makedirs(DATA_DIR, exist_ok=True)"
   ]
  },
  {
   "cell_type": "markdown",
   "id": "5056d3bc",
   "metadata": {},
   "source": [
    "# Gathering Data"
   ]
  },
  {
   "cell_type": "code",
   "execution_count": 11,
   "id": "af2a92fc",
   "metadata": {},
   "outputs": [
    {
     "name": "stderr",
     "output_type": "stream",
     "text": [
      "C:\\Users\\Kuba\\AppData\\Local\\Packages\\PythonSoftwareFoundation.Python.3.9_qbz5n2kfra8p0\\LocalCache\\local-packages\\Python39\\site-packages\\sklearn\\utils\\deprecation.py:87: FutureWarning: Function load_boston is deprecated; `load_boston` is deprecated in 1.0 and will be removed in 1.2.\n",
      "\n",
      "    The Boston housing prices dataset has an ethical problem. You can refer to\n",
      "    the documentation of this function for further details.\n",
      "\n",
      "    The scikit-learn maintainers therefore strongly discourage the use of this\n",
      "    dataset unless the purpose of the code is to study and educate about\n",
      "    ethical issues in data science and machine learning.\n",
      "\n",
      "    In this special case, you can fetch the dataset from the original\n",
      "    source::\n",
      "\n",
      "        import pandas as pd\n",
      "        import numpy as np\n",
      "\n",
      "        data_url = \"http://lib.stat.cmu.edu/datasets/boston\"\n",
      "        raw_df = pd.read_csv(data_url, sep=\"\\s+\", skiprows=22, header=None)\n",
      "        data = np.hstack([raw_df.values[::2, :], raw_df.values[1::2, :2]])\n",
      "        target = raw_df.values[1::2, 2]\n",
      "\n",
      "    Alternative datasets include the California housing dataset (i.e.\n",
      "    :func:`~sklearn.datasets.fetch_california_housing`) and the Ames housing\n",
      "    dataset. You can load the datasets as follows::\n",
      "\n",
      "        from sklearn.datasets import fetch_california_housing\n",
      "        housing = fetch_california_housing()\n",
      "\n",
      "    for the California housing dataset and::\n",
      "\n",
      "        from sklearn.datasets import fetch_openml\n",
      "        housing = fetch_openml(name=\"house_prices\", as_frame=True)\n",
      "\n",
      "    for the Ames housing dataset.\n",
      "  warnings.warn(msg, category=FutureWarning)\n"
     ]
    },
    {
     "data": {
      "text/plain": [
       "['DESCR', 'data', 'data_module', 'feature_names', 'filename', 'target']"
      ]
     },
     "execution_count": 11,
     "metadata": {},
     "output_type": "execute_result"
    }
   ],
   "source": [
    "boston_dataset = load_boston()\n",
    "dir(boston_dataset)"
   ]
  },
  {
   "cell_type": "code",
   "execution_count": 52,
   "id": "680bb258",
   "metadata": {},
   "outputs": [
    {
     "name": "stdout",
     "output_type": "stream",
     "text": [
      ".. _boston_dataset:\n",
      "\n",
      "Boston house prices dataset\n",
      "---------------------------\n",
      "\n",
      "**Data Set Characteristics:**  \n",
      "\n",
      "    :Number of Instances: 506 \n",
      "\n",
      "    :Number of Attributes: 13 numeric/categorical predictive. Median Value (attribute 14) is usually the target.\n",
      "\n",
      "    :Attribute Information (in order):\n",
      "        - CRIM     per capita crime rate by town\n",
      "        - ZN       proportion of residential land zoned for lots over 25,000 sq.ft.\n",
      "        - INDUS    proportion of non-retail business acres per town\n",
      "        - CHAS     Charles River dummy variable (= 1 if tract bounds river; 0 otherwise)\n",
      "        - NOX      nitric oxides concentration (parts per 10 million)\n",
      "        - RM       average number of rooms per dwelling\n",
      "        - AGE      proportion of owner-occupied units built prior to 1940\n",
      "        - DIS      weighted distances to five Boston employment centres\n",
      "        - RAD      index of accessibility to radial highways\n",
      "        - TAX      full-value property-tax rate per $10,000\n",
      "        - PTRATIO  pupil-teacher ratio by town\n",
      "        - B        1000(Bk - 0.63)^2 where Bk is the proportion of black people by town\n",
      "        - LSTAT    % lower status of the population\n",
      "        - MEDV     Median value of owner-occupied homes in $1000's\n",
      "\n",
      "    :Missing Attribute Values: None\n",
      "\n",
      "    :Creator: Harrison, D. and Rubinfeld, D.L.\n",
      "\n",
      "This is a copy of UCI ML housing dataset.\n",
      "https://archive.ics.uci.edu/ml/machine-learning-databases/housing/\n",
      "\n",
      "\n",
      "This dataset was taken from the StatLib library which is maintained at Carnegie Mellon University.\n",
      "\n",
      "The Boston house-price data of Harrison, D. and Rubinfeld, D.L. 'Hedonic\n",
      "prices and the demand for clean air', J. Environ. Economics & Management,\n",
      "vol.5, 81-102, 1978.   Used in Belsley, Kuh & Welsch, 'Regression diagnostics\n",
      "...', Wiley, 1980.   N.B. Various transformations are used in the table on\n",
      "pages 244-261 of the latter.\n",
      "\n",
      "The Boston house-price data has been used in many machine learning papers that address regression\n",
      "problems.   \n",
      "     \n",
      ".. topic:: References\n",
      "\n",
      "   - Belsley, Kuh & Welsch, 'Regression diagnostics: Identifying Influential Data and Sources of Collinearity', Wiley, 1980. 244-261.\n",
      "   - Quinlan,R. (1993). Combining Instance-Based and Model-Based Learning. In Proceedings on the Tenth International Conference of Machine Learning, 236-243, University of Massachusetts, Amherst. Morgan Kaufmann.\n",
      "\n"
     ]
    }
   ],
   "source": [
    "print(boston_dataset[\"DESCR\"])"
   ]
  },
  {
   "cell_type": "markdown",
   "id": "f6306e7b",
   "metadata": {},
   "source": [
    "# Data Exploration"
   ]
  },
  {
   "cell_type": "code",
   "execution_count": 53,
   "id": "06afc8d2",
   "metadata": {},
   "outputs": [],
   "source": [
    "#Create a pandas dataframe\n",
    "data = pd.DataFrame(data = boston_dataset.data,columns = boston_dataset.feature_names)\n",
    "\n",
    "#Add a column with house prices\n",
    "data[\"PRICE\"] = boston_dataset.target"
   ]
  },
  {
   "cell_type": "code",
   "execution_count": 54,
   "id": "f026f4b3",
   "metadata": {},
   "outputs": [
    {
     "data": {
      "text/html": [
       "<div>\n",
       "<style scoped>\n",
       "    .dataframe tbody tr th:only-of-type {\n",
       "        vertical-align: middle;\n",
       "    }\n",
       "\n",
       "    .dataframe tbody tr th {\n",
       "        vertical-align: top;\n",
       "    }\n",
       "\n",
       "    .dataframe thead th {\n",
       "        text-align: right;\n",
       "    }\n",
       "</style>\n",
       "<table border=\"1\" class=\"dataframe\">\n",
       "  <thead>\n",
       "    <tr style=\"text-align: right;\">\n",
       "      <th></th>\n",
       "      <th>CRIM</th>\n",
       "      <th>ZN</th>\n",
       "      <th>INDUS</th>\n",
       "      <th>CHAS</th>\n",
       "      <th>NOX</th>\n",
       "      <th>RM</th>\n",
       "      <th>AGE</th>\n",
       "      <th>DIS</th>\n",
       "      <th>RAD</th>\n",
       "      <th>TAX</th>\n",
       "      <th>PTRATIO</th>\n",
       "      <th>B</th>\n",
       "      <th>LSTAT</th>\n",
       "      <th>PRICE</th>\n",
       "    </tr>\n",
       "  </thead>\n",
       "  <tbody>\n",
       "    <tr>\n",
       "      <th>0</th>\n",
       "      <td>0.00632</td>\n",
       "      <td>18.0</td>\n",
       "      <td>2.31</td>\n",
       "      <td>0.0</td>\n",
       "      <td>0.538</td>\n",
       "      <td>6.575</td>\n",
       "      <td>65.2</td>\n",
       "      <td>4.0900</td>\n",
       "      <td>1.0</td>\n",
       "      <td>296.0</td>\n",
       "      <td>15.3</td>\n",
       "      <td>396.90</td>\n",
       "      <td>4.98</td>\n",
       "      <td>24.0</td>\n",
       "    </tr>\n",
       "    <tr>\n",
       "      <th>1</th>\n",
       "      <td>0.02731</td>\n",
       "      <td>0.0</td>\n",
       "      <td>7.07</td>\n",
       "      <td>0.0</td>\n",
       "      <td>0.469</td>\n",
       "      <td>6.421</td>\n",
       "      <td>78.9</td>\n",
       "      <td>4.9671</td>\n",
       "      <td>2.0</td>\n",
       "      <td>242.0</td>\n",
       "      <td>17.8</td>\n",
       "      <td>396.90</td>\n",
       "      <td>9.14</td>\n",
       "      <td>21.6</td>\n",
       "    </tr>\n",
       "    <tr>\n",
       "      <th>2</th>\n",
       "      <td>0.02729</td>\n",
       "      <td>0.0</td>\n",
       "      <td>7.07</td>\n",
       "      <td>0.0</td>\n",
       "      <td>0.469</td>\n",
       "      <td>7.185</td>\n",
       "      <td>61.1</td>\n",
       "      <td>4.9671</td>\n",
       "      <td>2.0</td>\n",
       "      <td>242.0</td>\n",
       "      <td>17.8</td>\n",
       "      <td>392.83</td>\n",
       "      <td>4.03</td>\n",
       "      <td>34.7</td>\n",
       "    </tr>\n",
       "    <tr>\n",
       "      <th>3</th>\n",
       "      <td>0.03237</td>\n",
       "      <td>0.0</td>\n",
       "      <td>2.18</td>\n",
       "      <td>0.0</td>\n",
       "      <td>0.458</td>\n",
       "      <td>6.998</td>\n",
       "      <td>45.8</td>\n",
       "      <td>6.0622</td>\n",
       "      <td>3.0</td>\n",
       "      <td>222.0</td>\n",
       "      <td>18.7</td>\n",
       "      <td>394.63</td>\n",
       "      <td>2.94</td>\n",
       "      <td>33.4</td>\n",
       "    </tr>\n",
       "    <tr>\n",
       "      <th>4</th>\n",
       "      <td>0.06905</td>\n",
       "      <td>0.0</td>\n",
       "      <td>2.18</td>\n",
       "      <td>0.0</td>\n",
       "      <td>0.458</td>\n",
       "      <td>7.147</td>\n",
       "      <td>54.2</td>\n",
       "      <td>6.0622</td>\n",
       "      <td>3.0</td>\n",
       "      <td>222.0</td>\n",
       "      <td>18.7</td>\n",
       "      <td>396.90</td>\n",
       "      <td>5.33</td>\n",
       "      <td>36.2</td>\n",
       "    </tr>\n",
       "    <tr>\n",
       "      <th>...</th>\n",
       "      <td>...</td>\n",
       "      <td>...</td>\n",
       "      <td>...</td>\n",
       "      <td>...</td>\n",
       "      <td>...</td>\n",
       "      <td>...</td>\n",
       "      <td>...</td>\n",
       "      <td>...</td>\n",
       "      <td>...</td>\n",
       "      <td>...</td>\n",
       "      <td>...</td>\n",
       "      <td>...</td>\n",
       "      <td>...</td>\n",
       "      <td>...</td>\n",
       "    </tr>\n",
       "    <tr>\n",
       "      <th>501</th>\n",
       "      <td>0.06263</td>\n",
       "      <td>0.0</td>\n",
       "      <td>11.93</td>\n",
       "      <td>0.0</td>\n",
       "      <td>0.573</td>\n",
       "      <td>6.593</td>\n",
       "      <td>69.1</td>\n",
       "      <td>2.4786</td>\n",
       "      <td>1.0</td>\n",
       "      <td>273.0</td>\n",
       "      <td>21.0</td>\n",
       "      <td>391.99</td>\n",
       "      <td>9.67</td>\n",
       "      <td>22.4</td>\n",
       "    </tr>\n",
       "    <tr>\n",
       "      <th>502</th>\n",
       "      <td>0.04527</td>\n",
       "      <td>0.0</td>\n",
       "      <td>11.93</td>\n",
       "      <td>0.0</td>\n",
       "      <td>0.573</td>\n",
       "      <td>6.120</td>\n",
       "      <td>76.7</td>\n",
       "      <td>2.2875</td>\n",
       "      <td>1.0</td>\n",
       "      <td>273.0</td>\n",
       "      <td>21.0</td>\n",
       "      <td>396.90</td>\n",
       "      <td>9.08</td>\n",
       "      <td>20.6</td>\n",
       "    </tr>\n",
       "    <tr>\n",
       "      <th>503</th>\n",
       "      <td>0.06076</td>\n",
       "      <td>0.0</td>\n",
       "      <td>11.93</td>\n",
       "      <td>0.0</td>\n",
       "      <td>0.573</td>\n",
       "      <td>6.976</td>\n",
       "      <td>91.0</td>\n",
       "      <td>2.1675</td>\n",
       "      <td>1.0</td>\n",
       "      <td>273.0</td>\n",
       "      <td>21.0</td>\n",
       "      <td>396.90</td>\n",
       "      <td>5.64</td>\n",
       "      <td>23.9</td>\n",
       "    </tr>\n",
       "    <tr>\n",
       "      <th>504</th>\n",
       "      <td>0.10959</td>\n",
       "      <td>0.0</td>\n",
       "      <td>11.93</td>\n",
       "      <td>0.0</td>\n",
       "      <td>0.573</td>\n",
       "      <td>6.794</td>\n",
       "      <td>89.3</td>\n",
       "      <td>2.3889</td>\n",
       "      <td>1.0</td>\n",
       "      <td>273.0</td>\n",
       "      <td>21.0</td>\n",
       "      <td>393.45</td>\n",
       "      <td>6.48</td>\n",
       "      <td>22.0</td>\n",
       "    </tr>\n",
       "    <tr>\n",
       "      <th>505</th>\n",
       "      <td>0.04741</td>\n",
       "      <td>0.0</td>\n",
       "      <td>11.93</td>\n",
       "      <td>0.0</td>\n",
       "      <td>0.573</td>\n",
       "      <td>6.030</td>\n",
       "      <td>80.8</td>\n",
       "      <td>2.5050</td>\n",
       "      <td>1.0</td>\n",
       "      <td>273.0</td>\n",
       "      <td>21.0</td>\n",
       "      <td>396.90</td>\n",
       "      <td>7.88</td>\n",
       "      <td>11.9</td>\n",
       "    </tr>\n",
       "  </tbody>\n",
       "</table>\n",
       "<p>506 rows × 14 columns</p>\n",
       "</div>"
      ],
      "text/plain": [
       "        CRIM    ZN  INDUS  CHAS    NOX     RM   AGE     DIS  RAD    TAX  \\\n",
       "0    0.00632  18.0   2.31   0.0  0.538  6.575  65.2  4.0900  1.0  296.0   \n",
       "1    0.02731   0.0   7.07   0.0  0.469  6.421  78.9  4.9671  2.0  242.0   \n",
       "2    0.02729   0.0   7.07   0.0  0.469  7.185  61.1  4.9671  2.0  242.0   \n",
       "3    0.03237   0.0   2.18   0.0  0.458  6.998  45.8  6.0622  3.0  222.0   \n",
       "4    0.06905   0.0   2.18   0.0  0.458  7.147  54.2  6.0622  3.0  222.0   \n",
       "..       ...   ...    ...   ...    ...    ...   ...     ...  ...    ...   \n",
       "501  0.06263   0.0  11.93   0.0  0.573  6.593  69.1  2.4786  1.0  273.0   \n",
       "502  0.04527   0.0  11.93   0.0  0.573  6.120  76.7  2.2875  1.0  273.0   \n",
       "503  0.06076   0.0  11.93   0.0  0.573  6.976  91.0  2.1675  1.0  273.0   \n",
       "504  0.10959   0.0  11.93   0.0  0.573  6.794  89.3  2.3889  1.0  273.0   \n",
       "505  0.04741   0.0  11.93   0.0  0.573  6.030  80.8  2.5050  1.0  273.0   \n",
       "\n",
       "     PTRATIO       B  LSTAT  PRICE  \n",
       "0       15.3  396.90   4.98   24.0  \n",
       "1       17.8  396.90   9.14   21.6  \n",
       "2       17.8  392.83   4.03   34.7  \n",
       "3       18.7  394.63   2.94   33.4  \n",
       "4       18.7  396.90   5.33   36.2  \n",
       "..       ...     ...    ...    ...  \n",
       "501     21.0  391.99   9.67   22.4  \n",
       "502     21.0  396.90   9.08   20.6  \n",
       "503     21.0  396.90   5.64   23.9  \n",
       "504     21.0  393.45   6.48   22.0  \n",
       "505     21.0  396.90   7.88   11.9  \n",
       "\n",
       "[506 rows x 14 columns]"
      ]
     },
     "execution_count": 54,
     "metadata": {},
     "output_type": "execute_result"
    }
   ],
   "source": [
    "data"
   ]
  },
  {
   "cell_type": "code",
   "execution_count": 55,
   "id": "2b238dd3",
   "metadata": {},
   "outputs": [],
   "source": [
    "#Saving data into data directory (with csv extension)\n",
    "data.to_csv(\"boston_housing_2022\\data\\housing.csv\")"
   ]
  },
  {
   "cell_type": "code",
   "execution_count": 56,
   "id": "06f63d96",
   "metadata": {},
   "outputs": [
    {
     "data": {
      "text/plain": [
       "count    506.000000\n",
       "mean      22.532806\n",
       "std        9.197104\n",
       "min        5.000000\n",
       "25%       17.025000\n",
       "50%       21.200000\n",
       "75%       25.000000\n",
       "max       50.000000\n",
       "Name: PRICE, dtype: float64"
      ]
     },
     "execution_count": 56,
     "metadata": {},
     "output_type": "execute_result"
    }
   ],
   "source": [
    "data[\"PRICE\"].describe()"
   ]
  },
  {
   "cell_type": "code",
   "execution_count": 57,
   "id": "987a1cbc",
   "metadata": {},
   "outputs": [
    {
     "data": {
      "text/plain": [
       "CRIM       False\n",
       "ZN         False\n",
       "INDUS      False\n",
       "CHAS       False\n",
       "NOX        False\n",
       "RM         False\n",
       "AGE        False\n",
       "DIS        False\n",
       "RAD        False\n",
       "TAX        False\n",
       "PTRATIO    False\n",
       "B          False\n",
       "LSTAT      False\n",
       "PRICE      False\n",
       "dtype: bool"
      ]
     },
     "execution_count": 57,
     "metadata": {},
     "output_type": "execute_result"
    }
   ],
   "source": [
    "# Check for missing values\n",
    "pd.isnull(data).any()"
   ]
  },
  {
   "cell_type": "markdown",
   "id": "bf7bbee6",
   "metadata": {},
   "source": [
    "# Visualising Data"
   ]
  },
  {
   "cell_type": "code",
   "execution_count": 58,
   "id": "acf8595d",
   "metadata": {},
   "outputs": [
    {
     "name": "stderr",
     "output_type": "stream",
     "text": [
      "C:\\Users\\Kuba\\anaconda3\\lib\\site-packages\\seaborn\\distributions.py:2557: FutureWarning: `distplot` is a deprecated function and will be removed in a future version. Please adapt your code to use either `displot` (a figure-level function with similar flexibility) or `histplot` (an axes-level function for histograms).\n",
      "  warnings.warn(msg, FutureWarning)\n",
      "C:\\Users\\Kuba\\anaconda3\\lib\\site-packages\\seaborn\\distributions.py:2557: FutureWarning: `distplot` is a deprecated function and will be removed in a future version. Please adapt your code to use either `displot` (a figure-level function with similar flexibility) or `histplot` (an axes-level function for histograms).\n",
      "  warnings.warn(msg, FutureWarning)\n",
      "C:\\Users\\Kuba\\anaconda3\\lib\\site-packages\\seaborn\\distributions.py:2557: FutureWarning: `distplot` is a deprecated function and will be removed in a future version. Please adapt your code to use either `displot` (a figure-level function with similar flexibility) or `histplot` (an axes-level function for histograms).\n",
      "  warnings.warn(msg, FutureWarning)\n"
     ]
    },
    {
     "data": {
      "image/png": "[encoded data removed]",
      "text/plain": [
       "<Figure size 1080x1080 with 4 Axes>"
      ]
     },
     "metadata": {
      "needs_background": "light"
     },
     "output_type": "display_data"
    }
   ],
   "source": [
    "plt.figure(figsize=[15,15])\n",
    "plt.subplot(4,1,1)\n",
    "\n",
    "plt.hist(data[\"PRICE\"],bins=50,ec=\"black\",color = \"tomato\")\n",
    "plt.xlim(5,50)\n",
    "plt.ylim(0,40)\n",
    "plt.ylabel(\"Amount of houses\",fontsize = 15)\n",
    "plt.xlabel(\"House price: 1 000$\",fontsize = 15)\n",
    "\n",
    "\n",
    "plt.subplot(4,1,2)\n",
    "sns.distplot(data[\"LSTAT\"])\n",
    "\n",
    "plt.subplot(4,1,3)\n",
    "sns.distplot(data[\"AGE\"])\n",
    "\n",
    "\n",
    "plt.subplot(4,1,4)\n",
    "sns.distplot(data[\"NOX\"])\n",
    "plt.savefig(os.path.join(PLOTS_DIR,'Price Histogram andFeatures_distplots.jpg'), dpi=300 )\n"
   ]
  },
  {
   "cell_type": "markdown",
   "id": "10e4b1db",
   "metadata": {},
   "source": [
    "# Correlation Check"
   ]
  },
  {
   "cell_type": "code",
   "execution_count": 59,
   "id": "1a00095b",
   "metadata": {},
   "outputs": [],
   "source": [
    "mask = np.zeros_like(data.corr())\n",
    "triangle_indices = np.triu_indices_from(mask)\n",
    "mask[triangle_indices] = True"
   ]
  },
  {
   "cell_type": "code",
   "execution_count": 60,
   "id": "2b817276",
   "metadata": {},
   "outputs": [
    {
     "data": {
      "image/png": "[encoded data removed]",
      "text/plain": [
       "<Figure size 1152x720 with 2 Axes>"
      ]
     },
     "metadata": {
      "needs_background": "light"
     },
     "output_type": "display_data"
    }
   ],
   "source": [
    "plt.figure(figsize = [16,10])\n",
    "sns.heatmap(data.corr(),cmap=\"vlag\",annot=True,linewidths=.5,mask=mask)\n",
    "plt.title(\"Correlation between features\",fontsize = 20)\n",
    "plt.xticks(fontsize = 14)\n",
    "plt.yticks(fontsize = 14)\n",
    "plt.savefig(os.path.join(PLOTS_DIR,'Correlation.jpg'), dpi=300 )\n"
   ]
  },
  {
   "cell_type": "markdown",
   "id": "376a66a6",
   "metadata": {},
   "source": [
    "### RAD and TAX strongly correlate with each other, but visualisation shows, it is a fake correlation based on extreme values"
   ]
  },
  {
   "cell_type": "code",
   "execution_count": 61,
   "id": "fd42c1b1",
   "metadata": {},
   "outputs": [
    {
     "name": "stderr",
     "output_type": "stream",
     "text": [
      "C:\\Users\\Kuba\\anaconda3\\lib\\site-packages\\seaborn\\regression.py:580: UserWarning: The `size` parameter has been renamed to `height`; please update your code.\n",
      "  warnings.warn(msg, UserWarning)\n"
     ]
    },
    {
     "data": {
      "image/png": "[encoded data removed]",
      "text/plain": [
       "<Figure size 504x504 with 1 Axes>"
      ]
     },
     "metadata": {
      "needs_background": "light"
     },
     "output_type": "display_data"
    }
   ],
   "source": [
    "#looking for pattern, there's none and for sure it will be important in model signification \n",
    "sns.lmplot(x = \"TAX\",y = \"RAD\",data=data,size=7)\n",
    "plt.title(\"TAX vs RAD\")\n",
    "plt.savefig(os.path.join(PLOTS_DIR,'TAX_RAD.jpg'), dpi=100 )\n"
   ]
  },
  {
   "cell_type": "markdown",
   "id": "c752e46f",
   "metadata": {},
   "source": [
    "## Lstat (Lower status of the population) is correlated with price in opposite way, correlation is clearly visible"
   ]
  },
  {
   "cell_type": "code",
   "execution_count": 62,
   "id": "44b2c891",
   "metadata": {},
   "outputs": [
    {
     "name": "stderr",
     "output_type": "stream",
     "text": [
      "C:\\Users\\Kuba\\anaconda3\\lib\\site-packages\\seaborn\\regression.py:580: UserWarning: The `size` parameter has been renamed to `height`; please update your code.\n",
      "  warnings.warn(msg, UserWarning)\n"
     ]
    },
    {
     "data": {
      "image/png": "[encoded data removed]",
      "text/plain": [
       "<Figure size 504x504 with 1 Axes>"
      ]
     },
     "metadata": {
      "needs_background": "light"
     },
     "output_type": "display_data"
    }
   ],
   "source": [
    "#looking for pattern, this one make sense\n",
    "sns.lmplot(x = \"LSTAT\",y = \"PRICE\",data=data,size=7)\n",
    "plt.title(\"LSTAT IMPACT ON PRICE\")\n",
    "plt.savefig(os.path.join(PLOTS_DIR,'LSTAT_PRICE.jpg'), dpi=300 )\n"
   ]
  },
  {
   "cell_type": "markdown",
   "id": "9f4f6e0f",
   "metadata": {},
   "source": [
    "## Number of rooms (RM) is strongly correlated with price"
   ]
  },
  {
   "cell_type": "code",
   "execution_count": 63,
   "id": "3904ed00",
   "metadata": {},
   "outputs": [
    {
     "name": "stderr",
     "output_type": "stream",
     "text": [
      "C:\\Users\\Kuba\\anaconda3\\lib\\site-packages\\seaborn\\regression.py:580: UserWarning: The `size` parameter has been renamed to `height`; please update your code.\n",
      "  warnings.warn(msg, UserWarning)\n"
     ]
    },
    {
     "data": {
      "image/png": "[encoded data removed]",
      "text/plain": [
       "<Figure size 504x504 with 1 Axes>"
      ]
     },
     "metadata": {
      "needs_background": "light"
     },
     "output_type": "display_data"
    }
   ],
   "source": [
    "#looking for pattern, this one make sense\n",
    "sns.lmplot(x = \"RM\",y = \"PRICE\",data=data,size=7)\n",
    "plt.title(\"RM IMPACT ON PRICE\")\n",
    "plt.savefig(os.path.join(PLOTS_DIR,'RM_PRICE.jpg'), dpi=300 )"
   ]
  },
  {
   "cell_type": "markdown",
   "id": "81def850",
   "metadata": {},
   "source": [
    "# Training, Valid & Test Dataset Split (models will be based on unchanged data)"
   ]
  },
  {
   "cell_type": "code",
   "execution_count": 64,
   "id": "214868ad",
   "metadata": {},
   "outputs": [],
   "source": [
    "prices = data[\"PRICE\"]\n",
    "features = data.drop(\"PRICE\",axis = 1)\n",
    "\n",
    "X_train_1,X_test,y_train_1,y_test = train_test_split(features,prices, \n",
    "                                                 test_size=0.2,random_state=10)\n",
    "\n",
    "X_train,X_valid,y_train,y_valid = train_test_split(X_train_1,y_train_1, \n",
    "                                                 test_size=0.25,random_state=10)"
   ]
  },
  {
   "cell_type": "code",
   "execution_count": 65,
   "id": "403bef10",
   "metadata": {},
   "outputs": [],
   "source": [
    "scaler = StandardScaler()"
   ]
  },
  {
   "cell_type": "code",
   "execution_count": 66,
   "id": "b886b826",
   "metadata": {},
   "outputs": [],
   "source": [
    "def give_metrics(predicted_values,y_val):\n",
    "    MSE = mean_squared_error(predicted_values,y_val)\n",
    "    RMSE = np.sqrt(MSE)\n",
    "    mae = MAE(predicted_values,y_val)\n",
    "    print(\"R-Squared: \", r2_score(predicted_values,y_val))\n",
    "    print(\"MAE: \", mae)\n",
    "    print(\"MSE: \", MSE)\n",
    "    print(\"RMSE: \",RMSE)\n",
    "\n"
   ]
  },
  {
   "cell_type": "markdown",
   "id": "991f89d8",
   "metadata": {},
   "source": [
    "## Raw Linear Regression Model"
   ]
  },
  {
   "cell_type": "code",
   "execution_count": 68,
   "id": "7804a9e3",
   "metadata": {},
   "outputs": [
    {
     "name": "stdout",
     "output_type": "stream",
     "text": [
      "R-Squared:  0.6663093667162863\n",
      "MAE:  3.324097070867019\n",
      "MSE:  17.8886713629892\n",
      "RMSE:  4.229500131574557\n"
     ]
    }
   ],
   "source": [
    "regr = LinearRegression()\n",
    "regr.fit(X_train,y_train)\n",
    "predicted_values = regr.predict(X_valid)\n",
    "\n",
    "give_metrics(predicted_values=predicted_values,y_val=y_valid)"
   ]
  },
  {
   "cell_type": "markdown",
   "id": "1e9c9d54",
   "metadata": {},
   "source": [
    "## Raw Decision Tree Model"
   ]
  },
  {
   "cell_type": "code",
   "execution_count": 69,
   "id": "1f24bedf",
   "metadata": {},
   "outputs": [
    {
     "name": "stdout",
     "output_type": "stream",
     "text": [
      "R-Squared:  0.7726787194541962\n",
      "MAE:  2.5712871287128714\n",
      "MSE:  12.133762376237623\n",
      "RMSE:  3.4833550459632483\n"
     ]
    }
   ],
   "source": [
    "regr = DecisionTreeRegressor(random_state=0)\n",
    "regr.fit(X_train,y_train)\n",
    "predicted_values = regr.predict(X_valid)\n",
    "\n",
    "give_metrics(predicted_values=predicted_values,y_val=y_valid)"
   ]
  },
  {
   "cell_type": "markdown",
   "id": "32ea4236",
   "metadata": {},
   "source": [
    "## Raw Random Forest Model"
   ]
  },
  {
   "cell_type": "code",
   "execution_count": 70,
   "id": "8c01df70",
   "metadata": {},
   "outputs": [
    {
     "name": "stdout",
     "output_type": "stream",
     "text": [
      "R-Squared:  0.8308506284427554\n",
      "MAE:  2.0016336633663396\n",
      "MSE:  7.705989336633674\n",
      "RMSE:  2.7759663788730715\n"
     ]
    }
   ],
   "source": [
    "regr = RandomForestRegressor(random_state=0)\n",
    "regr.fit(X_train,y_train)\n",
    "predicted_values = regr.predict(X_valid)\n",
    "\n",
    "give_metrics(predicted_values=predicted_values,y_val=y_valid)"
   ]
  },
  {
   "cell_type": "markdown",
   "id": "b5d0c6dd",
   "metadata": {},
   "source": [
    "## Raw XGBoost Model"
   ]
  },
  {
   "cell_type": "code",
   "execution_count": 71,
   "id": "01d61c21",
   "metadata": {},
   "outputs": [
    {
     "name": "stdout",
     "output_type": "stream",
     "text": [
      "R-Squared:  0.8448057780083199\n",
      "MAE:  2.0586465854455933\n",
      "MSE:  7.692106814413001\n",
      "RMSE:  2.773464767112249\n"
     ]
    }
   ],
   "source": [
    "regr = XGBRegressor(random_state=0)\n",
    "regr.fit(X_train,y_train)\n",
    "predicted_values = regr.predict(X_valid)\n",
    "\n",
    "give_metrics(predicted_values=predicted_values,y_val=y_valid)"
   ]
  },
  {
   "cell_type": "markdown",
   "id": "c9a5243a",
   "metadata": {},
   "source": [
    "# Upgrading Linear Regression Model (Check for Statictical Significance and Multicollinearity)"
   ]
  },
  {
   "cell_type": "code",
   "execution_count": 72,
   "id": "2e06d508",
   "metadata": {},
   "outputs": [],
   "source": [
    "X_incl_const = sm.add_constant(X_train)\n",
    "\n",
    "#for statictical significance\n",
    "model = sm.OLS(y_train,X_incl_const)\n",
    "results = model.fit()\n",
    "\n",
    "#For multicollinearity\n",
    "VIF_list = []\n",
    "for n in range(len(X_train.columns)+1):\n",
    "    VIF_list.append(variance_inflation_factor(exog = X_incl_const.values,exog_idx=n))\n"
   ]
  },
  {
   "cell_type": "code",
   "execution_count": 73,
   "id": "9ea001e4",
   "metadata": {},
   "outputs": [
    {
     "data": {
      "text/html": [
       "<table class=\"simpletable\">\n",
       "<caption>OLS Regression Results</caption>\n",
       "<tr>\n",
       "  <th>Dep. Variable:</th>          <td>PRICE</td>      <th>  R-squared:         </th> <td>   0.762</td>\n",
       "</tr>\n",
       "<tr>\n",
       "  <th>Model:</th>                   <td>OLS</td>       <th>  Adj. R-squared:    </th> <td>   0.752</td>\n",
       "</tr>\n",
       "<tr>\n",
       "  <th>Method:</th>             <td>Least Squares</td>  <th>  F-statistic:       </th> <td>   71.31</td>\n",
       "</tr>\n",
       "<tr>\n",
       "  <th>Date:</th>             <td>Mon, 20 Jun 2022</td> <th>  Prob (F-statistic):</th> <td>4.50e-82</td>\n",
       "</tr>\n",
       "<tr>\n",
       "  <th>Time:</th>                 <td>11:00:49</td>     <th>  Log-Likelihood:    </th> <td> -885.08</td>\n",
       "</tr>\n",
       "<tr>\n",
       "  <th>No. Observations:</th>      <td>   303</td>      <th>  AIC:               </th> <td>   1798.</td>\n",
       "</tr>\n",
       "<tr>\n",
       "  <th>Df Residuals:</th>          <td>   289</td>      <th>  BIC:               </th> <td>   1850.</td>\n",
       "</tr>\n",
       "<tr>\n",
       "  <th>Df Model:</th>              <td>    13</td>      <th>                     </th>     <td> </td>   \n",
       "</tr>\n",
       "<tr>\n",
       "  <th>Covariance Type:</th>      <td>nonrobust</td>    <th>                     </th>     <td> </td>   \n",
       "</tr>\n",
       "</table>\n",
       "<table class=\"simpletable\">\n",
       "<tr>\n",
       "     <td></td>        <th>coef</th>     <th>std err</th>      <th>t</th>      <th>P>|t|</th>  <th>[0.025</th>    <th>0.975]</th>  \n",
       "</tr>\n",
       "<tr>\n",
       "  <th>const</th>   <td>   38.0548</td> <td>    6.473</td> <td>    5.879</td> <td> 0.000</td> <td>   25.314</td> <td>   50.795</td>\n",
       "</tr>\n",
       "<tr>\n",
       "  <th>CRIM</th>    <td>   -0.1675</td> <td>    0.048</td> <td>   -3.504</td> <td> 0.001</td> <td>   -0.262</td> <td>   -0.073</td>\n",
       "</tr>\n",
       "<tr>\n",
       "  <th>ZN</th>      <td>    0.0687</td> <td>    0.018</td> <td>    3.915</td> <td> 0.000</td> <td>    0.034</td> <td>    0.103</td>\n",
       "</tr>\n",
       "<tr>\n",
       "  <th>INDUS</th>   <td>   -0.0038</td> <td>    0.078</td> <td>   -0.049</td> <td> 0.961</td> <td>   -0.158</td> <td>    0.150</td>\n",
       "</tr>\n",
       "<tr>\n",
       "  <th>CHAS</th>    <td>    1.7027</td> <td>    1.069</td> <td>    1.592</td> <td> 0.112</td> <td>   -0.402</td> <td>    3.807</td>\n",
       "</tr>\n",
       "<tr>\n",
       "  <th>NOX</th>     <td>  -19.0826</td> <td>    4.712</td> <td>   -4.050</td> <td> 0.000</td> <td>  -28.357</td> <td>   -9.808</td>\n",
       "</tr>\n",
       "<tr>\n",
       "  <th>RM</th>      <td>    3.2407</td> <td>    0.526</td> <td>    6.159</td> <td> 0.000</td> <td>    2.205</td> <td>    4.276</td>\n",
       "</tr>\n",
       "<tr>\n",
       "  <th>AGE</th>     <td>    0.0326</td> <td>    0.017</td> <td>    1.882</td> <td> 0.061</td> <td>   -0.001</td> <td>    0.067</td>\n",
       "</tr>\n",
       "<tr>\n",
       "  <th>DIS</th>     <td>   -1.5416</td> <td>    0.240</td> <td>   -6.413</td> <td> 0.000</td> <td>   -2.015</td> <td>   -1.068</td>\n",
       "</tr>\n",
       "<tr>\n",
       "  <th>RAD</th>     <td>    0.3837</td> <td>    0.085</td> <td>    4.519</td> <td> 0.000</td> <td>    0.217</td> <td>    0.551</td>\n",
       "</tr>\n",
       "<tr>\n",
       "  <th>TAX</th>     <td>   -0.0137</td> <td>    0.005</td> <td>   -2.817</td> <td> 0.005</td> <td>   -0.023</td> <td>   -0.004</td>\n",
       "</tr>\n",
       "<tr>\n",
       "  <th>PTRATIO</th> <td>   -0.9214</td> <td>    0.169</td> <td>   -5.461</td> <td> 0.000</td> <td>   -1.254</td> <td>   -0.589</td>\n",
       "</tr>\n",
       "<tr>\n",
       "  <th>B</th>       <td>    0.0131</td> <td>    0.003</td> <td>    4.109</td> <td> 0.000</td> <td>    0.007</td> <td>    0.019</td>\n",
       "</tr>\n",
       "<tr>\n",
       "  <th>LSTAT</th>   <td>   -0.5926</td> <td>    0.061</td> <td>   -9.691</td> <td> 0.000</td> <td>   -0.713</td> <td>   -0.472</td>\n",
       "</tr>\n",
       "</table>\n",
       "<table class=\"simpletable\">\n",
       "<tr>\n",
       "  <th>Omnibus:</th>       <td>103.659</td> <th>  Durbin-Watson:     </th> <td>   1.988</td>\n",
       "</tr>\n",
       "<tr>\n",
       "  <th>Prob(Omnibus):</th> <td> 0.000</td>  <th>  Jarque-Bera (JB):  </th> <td> 426.383</td>\n",
       "</tr>\n",
       "<tr>\n",
       "  <th>Skew:</th>          <td> 1.403</td>  <th>  Prob(JB):          </th> <td>2.58e-93</td>\n",
       "</tr>\n",
       "<tr>\n",
       "  <th>Kurtosis:</th>      <td> 8.090</td>  <th>  Cond. No.          </th> <td>1.55e+04</td>\n",
       "</tr>\n",
       "</table><br/><br/>Notes:<br/>[1] Standard Errors assume that the covariance matrix of the errors is correctly specified.<br/>[2] The condition number is large, 1.55e+04. This might indicate that there are<br/>strong multicollinearity or other numerical problems."
      ],
      "text/plain": [
       "<class 'statsmodels.iolib.summary.Summary'>\n",
       "\"\"\"\n",
       "                            OLS Regression Results                            \n",
       "==============================================================================\n",
       "Dep. Variable:                  PRICE   R-squared:                       0.762\n",
       "Model:                            OLS   Adj. R-squared:                  0.752\n",
       "Method:                 Least Squares   F-statistic:                     71.31\n",
       "Date:                Mon, 20 Jun 2022   Prob (F-statistic):           4.50e-82\n",
       "Time:                        11:00:49   Log-Likelihood:                -885.08\n",
       "No. Observations:                 303   AIC:                             1798.\n",
       "Df Residuals:                     289   BIC:                             1850.\n",
       "Df Model:                          13                                         \n",
       "Covariance Type:            nonrobust                                         \n",
       "==============================================================================\n",
       "                 coef    std err          t      P>|t|      [0.025      0.975]\n",
       "------------------------------------------------------------------------------\n",
       "const         38.0548      6.473      5.879      0.000      25.314      50.795\n",
       "CRIM          -0.1675      0.048     -3.504      0.001      -0.262      -0.073\n",
       "ZN             0.0687      0.018      3.915      0.000       0.034       0.103\n",
       "INDUS         -0.0038      0.078     -0.049      0.961      -0.158       0.150\n",
       "CHAS           1.7027      1.069      1.592      0.112      -0.402       3.807\n",
       "NOX          -19.0826      4.712     -4.050      0.000     -28.357      -9.808\n",
       "RM             3.2407      0.526      6.159      0.000       2.205       4.276\n",
       "AGE            0.0326      0.017      1.882      0.061      -0.001       0.067\n",
       "DIS           -1.5416      0.240     -6.413      0.000      -2.015      -1.068\n",
       "RAD            0.3837      0.085      4.519      0.000       0.217       0.551\n",
       "TAX           -0.0137      0.005     -2.817      0.005      -0.023      -0.004\n",
       "PTRATIO       -0.9214      0.169     -5.461      0.000      -1.254      -0.589\n",
       "B              0.0131      0.003      4.109      0.000       0.007       0.019\n",
       "LSTAT         -0.5926      0.061     -9.691      0.000      -0.713      -0.472\n",
       "==============================================================================\n",
       "Omnibus:                      103.659   Durbin-Watson:                   1.988\n",
       "Prob(Omnibus):                  0.000   Jarque-Bera (JB):              426.383\n",
       "Skew:                           1.403   Prob(JB):                     2.58e-93\n",
       "Kurtosis:                       8.090   Cond. No.                     1.55e+04\n",
       "==============================================================================\n",
       "\n",
       "Notes:\n",
       "[1] Standard Errors assume that the covariance matrix of the errors is correctly specified.\n",
       "[2] The condition number is large, 1.55e+04. This might indicate that there are\n",
       "strong multicollinearity or other numerical problems.\n",
       "\"\"\""
      ]
     },
     "execution_count": 73,
     "metadata": {},
     "output_type": "execute_result"
    }
   ],
   "source": [
    "results.summary()"
   ]
  },
  {
   "cell_type": "code",
   "execution_count": 74,
   "id": "fd397768",
   "metadata": {},
   "outputs": [
    {
     "data": {
      "text/html": [
       "<div>\n",
       "<style scoped>\n",
       "    .dataframe tbody tr th:only-of-type {\n",
       "        vertical-align: middle;\n",
       "    }\n",
       "\n",
       "    .dataframe tbody tr th {\n",
       "        vertical-align: top;\n",
       "    }\n",
       "\n",
       "    .dataframe thead th {\n",
       "        text-align: right;\n",
       "    }\n",
       "</style>\n",
       "<table border=\"1\" class=\"dataframe\">\n",
       "  <thead>\n",
       "    <tr style=\"text-align: right;\">\n",
       "      <th></th>\n",
       "      <th>p-values</th>\n",
       "      <th>VIF</th>\n",
       "    </tr>\n",
       "  </thead>\n",
       "  <tbody>\n",
       "    <tr>\n",
       "      <th>const</th>\n",
       "      <td>0.000</td>\n",
       "      <td>600.370</td>\n",
       "    </tr>\n",
       "    <tr>\n",
       "      <th>CRIM</th>\n",
       "      <td>0.001</td>\n",
       "      <td>2.074</td>\n",
       "    </tr>\n",
       "    <tr>\n",
       "      <th>ZN</th>\n",
       "      <td>0.000</td>\n",
       "      <td>2.350</td>\n",
       "    </tr>\n",
       "    <tr>\n",
       "      <th>INDUS</th>\n",
       "      <td>0.961</td>\n",
       "      <td>4.168</td>\n",
       "    </tr>\n",
       "    <tr>\n",
       "      <th>CHAS</th>\n",
       "      <td>0.112</td>\n",
       "      <td>1.103</td>\n",
       "    </tr>\n",
       "    <tr>\n",
       "      <th>NOX</th>\n",
       "      <td>0.000</td>\n",
       "      <td>4.563</td>\n",
       "    </tr>\n",
       "    <tr>\n",
       "      <th>RM</th>\n",
       "      <td>0.000</td>\n",
       "      <td>1.926</td>\n",
       "    </tr>\n",
       "    <tr>\n",
       "      <th>AGE</th>\n",
       "      <td>0.061</td>\n",
       "      <td>3.327</td>\n",
       "    </tr>\n",
       "    <tr>\n",
       "      <th>DIS</th>\n",
       "      <td>0.000</td>\n",
       "      <td>3.924</td>\n",
       "    </tr>\n",
       "    <tr>\n",
       "      <th>RAD</th>\n",
       "      <td>0.000</td>\n",
       "      <td>8.368</td>\n",
       "    </tr>\n",
       "    <tr>\n",
       "      <th>TAX</th>\n",
       "      <td>0.005</td>\n",
       "      <td>9.940</td>\n",
       "    </tr>\n",
       "    <tr>\n",
       "      <th>PTRATIO</th>\n",
       "      <td>0.000</td>\n",
       "      <td>1.839</td>\n",
       "    </tr>\n",
       "    <tr>\n",
       "      <th>B</th>\n",
       "      <td>0.000</td>\n",
       "      <td>1.331</td>\n",
       "    </tr>\n",
       "    <tr>\n",
       "      <th>LSTAT</th>\n",
       "      <td>0.000</td>\n",
       "      <td>2.824</td>\n",
       "    </tr>\n",
       "  </tbody>\n",
       "</table>\n",
       "</div>"
      ],
      "text/plain": [
       "         p-values      VIF\n",
       "const       0.000  600.370\n",
       "CRIM        0.001    2.074\n",
       "ZN          0.000    2.350\n",
       "INDUS       0.961    4.168\n",
       "CHAS        0.112    1.103\n",
       "NOX         0.000    4.563\n",
       "RM          0.000    1.926\n",
       "AGE         0.061    3.327\n",
       "DIS         0.000    3.924\n",
       "RAD         0.000    8.368\n",
       "TAX         0.005    9.940\n",
       "PTRATIO     0.000    1.839\n",
       "B           0.000    1.331\n",
       "LSTAT       0.000    2.824"
      ]
     },
     "execution_count": 74,
     "metadata": {},
     "output_type": "execute_result"
    }
   ],
   "source": [
    "# Threshhold for P_values = 0.05, so P_values < 0.05 means values are statistically significance\n",
    "# Threshhold for VIF = 10, so VIF < 10 means multicollinearity, TAX is close enough, and after a try I ruled it out\n",
    "pd.DataFrame({'p-values' : round(results.pvalues,3), \"VIF\" : np.around(VIF_list,3)})"
   ]
  },
  {
   "cell_type": "markdown",
   "id": "802cae3e",
   "metadata": {},
   "source": [
    "# Model Simplification for all models (Dropping \"INDUS\", \"AGE\" and extreme values)"
   ]
  },
  {
   "cell_type": "code",
   "execution_count": 75,
   "id": "0a083496",
   "metadata": {},
   "outputs": [],
   "source": [
    "data.drop(data[data.TAX > 500].index, inplace=True) #Exluding extremes\n",
    "prices = np.log(data[\"PRICE\"]) #Log prices are closer to normal distribution\n",
    "features = data.drop([\"PRICE\",\"INDUS\",\"AGE\",\"CHAS\"],axis = 1)\n",
    "\n",
    "\n",
    "X_train_1,X_test,y_train_1,y_test = train_test_split(features,prices, \n",
    "                                                 test_size=0.2,random_state=10)\n",
    "\n",
    "X_train,X_valid,y_train,y_valid = train_test_split(X_train_1,y_train_1, \n",
    "                                                 test_size=0.25,random_state=10)"
   ]
  },
  {
   "cell_type": "markdown",
   "id": "71207f6e",
   "metadata": {},
   "source": [
    "## Data standardization"
   ]
  },
  {
   "cell_type": "code",
   "execution_count": 76,
   "id": "0699a309",
   "metadata": {},
   "outputs": [],
   "source": [
    "scaler = StandardScaler()\n",
    "\n",
    "\n",
    "scaled_X_train, scaled_X_valid = scaler.fit_transform(X_train),scaler.fit_transform(X_valid)\n",
    "scaled_y_train, scaled_y_valid = scaler.fit_transform(np.reshape(np.array(y_train),(-1,1))),scaler.fit_transform(np.reshape(np.array(y_valid),(-1,1)))"
   ]
  },
  {
   "cell_type": "code",
   "execution_count": 77,
   "id": "676d1f46",
   "metadata": {},
   "outputs": [],
   "source": [
    "def give_npe_metrics(predicted_values,y_test):\n",
    "    MSE = mean_squared_error(predicted_values,y_test)\n",
    "    RMSE = np.sqrt(MSE)\n",
    "    mae = MAE(predicted_values,y_test)\n",
    "    print(\"R-Squared: \", r2_score(predicted_values,y_test))\n",
    "    print(\"MAE: \", np.e**mae)\n",
    "    print(\"MSE: \", np.e**MSE)\n",
    "    print(\"RMSE: \",np.e**RMSE)\n"
   ]
  },
  {
   "cell_type": "markdown",
   "id": "2a94f049",
   "metadata": {},
   "source": [
    "# Upgrading Linear Regression Model (Set the appropriate hiperparameters)"
   ]
  },
  {
   "cell_type": "code",
   "execution_count": 78,
   "id": "d396cfc6",
   "metadata": {},
   "outputs": [],
   "source": [
    "param_grid= [ {\n",
    "              'fit_intercept': [False,True], \n",
    "               'n_jobs': [5,15,25,35,45,55,70,80,90,120,150,200] ,\n",
    "               'positive' :[True,False],\n",
    "                \n",
    "               }  ]"
   ]
  },
  {
   "cell_type": "code",
   "execution_count": 79,
   "id": "c4c1c0ee",
   "metadata": {},
   "outputs": [
    {
     "name": "stdout",
     "output_type": "stream",
     "text": [
      "\n",
      "BEST PARAMS\n",
      " {'fit_intercept': True, 'n_jobs': 5, 'positive': False}\n",
      "\n",
      "BEST ESTIMATOR\n",
      " LinearRegression(n_jobs=5)\n"
     ]
    }
   ],
   "source": [
    "esti= LinearRegression()\n",
    "grid_search=GridSearchCV(esti,param_grid)\n",
    "grid_search.fit(X_valid,y_valid.ravel())\n",
    "print('\\nBest Params\\n'.upper(), grid_search.best_params_)\n",
    "print('\\nBest estimator\\n'.upper(), grid_search.best_estimator_)"
   ]
  },
  {
   "cell_type": "markdown",
   "id": "c4cd262b",
   "metadata": {},
   "source": [
    "## Final Linear Regression Model"
   ]
  },
  {
   "cell_type": "code",
   "execution_count": 80,
   "id": "b9988c67",
   "metadata": {},
   "outputs": [
    {
     "name": "stdout",
     "output_type": "stream",
     "text": [
      "R-Squared:  0.8186607585497574\n",
      "MAE:  1.0892311926198668\n",
      "MSE:  1.0148480561770625\n",
      "RMSE:  1.1290808374634687\n"
     ]
    }
   ],
   "source": [
    "regr = grid_search.best_estimator_\n",
    "regr.fit(X_train,y_train)\n",
    "predicted_values = regr.predict(X_valid)\n",
    "\n",
    "give_npe_metrics(predicted_values=predicted_values,y_test=y_valid)"
   ]
  },
  {
   "cell_type": "markdown",
   "id": "2c5c4349",
   "metadata": {},
   "source": [
    "## Final Linear Regression Model but with standardized data"
   ]
  },
  {
   "cell_type": "code",
   "execution_count": 81,
   "id": "e773958f",
   "metadata": {},
   "outputs": [
    {
     "name": "stdout",
     "output_type": "stream",
     "text": [
      "R-Squared:  0.7976633872195245\n",
      "MAE:  1.3656126321883029\n",
      "MSE:  1.186664867451179\n",
      "RMSE:  1.5124016013163561\n"
     ]
    },
    {
     "name": "stderr",
     "output_type": "stream",
     "text": [
      "C:\\Users\\Kuba\\anaconda3\\lib\\site-packages\\sklearn\\linear_model\\_base.py:148: FutureWarning: 'normalize' was deprecated in version 1.0 and will be removed in 1.2. Please leave the normalize parameter to its default value to silence this warning. The default behavior of this estimator is to not do any normalization. If normalization is needed please use sklearn.preprocessing.StandardScaler instead.\n",
      "  warnings.warn(\n"
     ]
    }
   ],
   "source": [
    "regr = LinearRegression(fit_intercept = True,n_jobs = 5,positive = False,normalize=False) #Normalization has \n",
    "                                                                            #to be False when data are standardized\n",
    "regr.fit(scaled_X_train,scaled_y_train.ravel()) \n",
    "predicted_values = regr.predict(scaled_X_valid)\n",
    "give_npe_metrics(predicted_values=predicted_values,y_test=scaled_y_valid.ravel())"
   ]
  },
  {
   "cell_type": "markdown",
   "id": "7cce2e5d",
   "metadata": {},
   "source": [
    "# Upgrading Decision Tree Model (Set the appropriate hiperparameters)"
   ]
  },
  {
   "cell_type": "code",
   "execution_count": 82,
   "id": "d1d65112",
   "metadata": {},
   "outputs": [],
   "source": [
    "param_grid= [ {\n",
    "              'max_depth': [2, 10, 25,50,100,200], \n",
    "               'max_leaf_nodes': [5,15,25,35,45,55,70,80,90,120,150,200] ,\n",
    "               'min_samples_leaf' :[1,2,3,4,5,6,7,9,10],\n",
    "                \"random_state\" : [4]\n",
    "               }  ]"
   ]
  },
  {
   "cell_type": "code",
   "execution_count": 83,
   "id": "76f8884e",
   "metadata": {},
   "outputs": [
    {
     "name": "stdout",
     "output_type": "stream",
     "text": [
      "\n",
      "BEST PARAMS\n",
      " {'max_depth': 10, 'max_leaf_nodes': 15, 'min_samples_leaf': 6, 'random_state': 4}\n",
      "\n",
      "BEST ESTIMATOR\n",
      " DecisionTreeRegressor(max_depth=10, max_leaf_nodes=15, min_samples_leaf=6,\n",
      "                      random_state=4)\n"
     ]
    }
   ],
   "source": [
    "esti= DecisionTreeRegressor()\n",
    "grid_search=GridSearchCV(esti,param_grid)\n",
    "grid_search.fit(X_valid,y_valid.ravel())\n",
    "print('\\nBest Params\\n'.upper(), grid_search.best_params_)\n",
    "print('\\nBest estimator\\n'.upper(), grid_search.best_estimator_)"
   ]
  },
  {
   "cell_type": "markdown",
   "id": "409ea3c9",
   "metadata": {},
   "source": [
    "## Final Decision Tree Model"
   ]
  },
  {
   "cell_type": "code",
   "execution_count": 84,
   "id": "c410df97",
   "metadata": {},
   "outputs": [
    {
     "name": "stdout",
     "output_type": "stream",
     "text": [
      "R-Squared:  0.71044640296075\n",
      "MAE:  1.1117783698371024\n",
      "MSE:  1.0184791105920745\n",
      "RMSE:  1.1448986278461477\n"
     ]
    }
   ],
   "source": [
    "regr = grid_search.best_estimator_\n",
    "regr.fit(X_train,y_train)\n",
    "predicted_values = regr.predict(X_valid)\n",
    "\n",
    "give_npe_metrics(predicted_values=predicted_values,y_test=y_valid)"
   ]
  },
  {
   "cell_type": "markdown",
   "id": "3fdf17ac",
   "metadata": {},
   "source": [
    "## Standardized Decision Tree Model"
   ]
  },
  {
   "cell_type": "code",
   "execution_count": 85,
   "id": "a81a48c5",
   "metadata": {},
   "outputs": [
    {
     "name": "stdout",
     "output_type": "stream",
     "text": [
      "R-Squared:  0.7538960629498441\n",
      "MAE:  1.3897874810198252\n",
      "MSE:  1.212105638655911\n",
      "RMSE:  1.550515654926403\n"
     ]
    }
   ],
   "source": [
    "regr = grid_search.best_estimator_\n",
    "regr.fit(scaled_X_train,scaled_y_train.ravel())\n",
    "predicted_values = regr.predict(scaled_X_valid)\n",
    "\n",
    "give_npe_metrics(predicted_values=predicted_values,y_test=scaled_y_valid.ravel())"
   ]
  },
  {
   "cell_type": "markdown",
   "id": "2d1a2671",
   "metadata": {},
   "source": [
    "# Upgrading Random Forest Model (Set the appropriate hiperparameteres)"
   ]
  },
  {
   "cell_type": "code",
   "execution_count": 86,
   "id": "7451fdde",
   "metadata": {},
   "outputs": [],
   "source": [
    "param_grid= [ {\n",
    "              'max_depth': [10,20,50], \n",
    "               'max_leaf_nodes': [15,30,50,150], \n",
    "                \"random_state\" : [4],\n",
    "                \"n_estimators\" : [50,100,250]\n",
    "               }  ]"
   ]
  },
  {
   "cell_type": "code",
   "execution_count": 87,
   "id": "a9c41744",
   "metadata": {},
   "outputs": [
    {
     "name": "stdout",
     "output_type": "stream",
     "text": [
      "\n",
      "BEST PARAMS\n",
      " {'max_depth': 10, 'max_leaf_nodes': 15, 'n_estimators': 100, 'random_state': 4}\n",
      "\n",
      "BEST ESTIMATOR\n",
      " RandomForestRegressor(max_depth=10, max_leaf_nodes=15, random_state=4)\n"
     ]
    }
   ],
   "source": [
    "esti= RandomForestRegressor()\n",
    "grid_search=GridSearchCV(esti,param_grid)\n",
    "grid_search.fit(X_valid,y_valid.ravel())\n",
    "print('\\nBest Params\\n'.upper(), grid_search.best_params_)\n",
    "print('\\nBest estimator\\n'.upper(), grid_search.best_estimator_)"
   ]
  },
  {
   "cell_type": "markdown",
   "id": "e5f8bd7f",
   "metadata": {},
   "source": [
    "## Final Random Forest Model"
   ]
  },
  {
   "cell_type": "code",
   "execution_count": 88,
   "id": "f3d2d713",
   "metadata": {},
   "outputs": [
    {
     "name": "stdout",
     "output_type": "stream",
     "text": [
      "R-Squared:  0.7838799706406339\n",
      "MAE:  1.0883689045534868\n",
      "MSE:  1.0137174115790077\n",
      "RMSE:  1.123807710432454\n"
     ]
    }
   ],
   "source": [
    "regr = grid_search.best_estimator_\n",
    "regr.fit(X_train,y_train)\n",
    "predicted_values = regr.predict(X_valid)\n",
    "\n",
    "give_npe_metrics(predicted_values=predicted_values,y_test=y_valid)"
   ]
  },
  {
   "cell_type": "markdown",
   "id": "0679711b",
   "metadata": {},
   "source": [
    "## Final Random Forest Model with scaled data"
   ]
  },
  {
   "cell_type": "code",
   "execution_count": 89,
   "id": "68391816",
   "metadata": {},
   "outputs": [
    {
     "name": "stdout",
     "output_type": "stream",
     "text": [
      "R-Squared:  0.7495909698140029\n",
      "MAE:  1.3964073621684694\n",
      "MSE:  1.2046757049828285\n",
      "RMSE:  1.53959752980754\n"
     ]
    }
   ],
   "source": [
    "regr = grid_search.best_estimator_\n",
    "regr.fit(scaled_X_train,scaled_y_train.ravel())\n",
    "predicted_values = regr.predict(scaled_X_valid)\n",
    "\n",
    "give_npe_metrics(predicted_values=predicted_values,y_test=scaled_y_valid.ravel())"
   ]
  },
  {
   "cell_type": "markdown",
   "id": "67188ddc",
   "metadata": {},
   "source": [
    "# Upgrading XGBoost Model (Set the appropriate hiperparameters)"
   ]
  },
  {
   "cell_type": "code",
   "execution_count": 90,
   "id": "599f1ae0",
   "metadata": {},
   "outputs": [],
   "source": [
    "param_grid= [ {\n",
    "              #It chooses all params by itself, that's why I leave it empty\n",
    "               }  ]"
   ]
  },
  {
   "cell_type": "code",
   "execution_count": 91,
   "id": "6a87006c",
   "metadata": {},
   "outputs": [
    {
     "name": "stdout",
     "output_type": "stream",
     "text": [
      "\n",
      "BEST ESTIMATOR\n",
      " XGBRegressor(base_score=0.5, booster='gbtree', callbacks=None,\n",
      "             colsample_bylevel=1, colsample_bynode=1, colsample_bytree=1,\n",
      "             early_stopping_rounds=None, enable_categorical=False,\n",
      "             eval_metric=None, gamma=0, gpu_id=-1, grow_policy='depthwise',\n",
      "             importance_type=None, interaction_constraints='',\n",
      "             learning_rate=0.300000012, max_bin=256, max_cat_to_onehot=4,\n",
      "             max_delta_step=0, max_depth=6, max_leaves=0, min_child_weight=1,\n",
      "             missing=nan, monotone_constraints='()', n_estimators=100, n_jobs=0,\n",
      "             num_parallel_tree=1, predictor='auto', random_state=0, reg_alpha=0,\n",
      "             reg_lambda=1, ...)\n"
     ]
    }
   ],
   "source": [
    "esti= XGBRegressor()\n",
    "grid_search=GridSearchCV(esti,param_grid)\n",
    "grid_search.fit(X_valid,y_valid.ravel())\n",
    "print('\\nBest estimator\\n'.upper(), grid_search.best_estimator_)"
   ]
  },
  {
   "cell_type": "markdown",
   "id": "ee0c7404",
   "metadata": {},
   "source": [
    "## Final XGBoost Model"
   ]
  },
  {
   "cell_type": "code",
   "execution_count": 92,
   "id": "138e2a0f",
   "metadata": {},
   "outputs": [
    {
     "name": "stdout",
     "output_type": "stream",
     "text": [
      "R-Squared:  0.8359608548351839\n",
      "MAE:  1.0806366276772454\n",
      "MSE:  1.0109813602664746\n",
      "RMSE:  1.1101620490027484\n"
     ]
    }
   ],
   "source": [
    "regr = grid_search.best_estimator_\n",
    "regr.fit(X_train, y_train)\n",
    "predicted_values = regr.predict(X_valid)\n",
    "\n",
    "give_npe_metrics(predicted_values=predicted_values,y_test=y_valid)"
   ]
  },
  {
   "cell_type": "markdown",
   "id": "8704f296",
   "metadata": {},
   "source": [
    "## Final XGBoost Model with scaled data"
   ]
  },
  {
   "cell_type": "code",
   "execution_count": 93,
   "id": "f72c81d5",
   "metadata": {},
   "outputs": [
    {
     "name": "stdout",
     "output_type": "stream",
     "text": [
      "R-Squared:  0.7656540775498459\n",
      "MAE:  1.4021280984835252\n",
      "MSE:  1.1915876378384542\n",
      "RMSE:  1.5199423198864728\n"
     ]
    }
   ],
   "source": [
    "regr = grid_search.best_estimator_\n",
    "regr.fit(scaled_X_train,scaled_y_train.ravel())\n",
    "predicted_values = regr.predict(scaled_X_valid)\n",
    "\n",
    "give_npe_metrics(predicted_values=predicted_values,y_test=scaled_y_valid.ravel())"
   ]
  },
  {
   "cell_type": "markdown",
   "id": "2e0d29e4",
   "metadata": {},
   "source": [
    "# R-Squared value shows that XGBoost is the best choice. MAE is close to 1, that means model is wrong by an average of a thousand dollars."
   ]
  },
  {
   "cell_type": "markdown",
   "id": "07d345bc",
   "metadata": {},
   "source": [
    "# Final predictions on Test Data, Model is fitted based on all of training data, including validation set (X_train_1 was created before train_val split)"
   ]
  },
  {
   "cell_type": "code",
   "execution_count": 94,
   "id": "697c684e",
   "metadata": {},
   "outputs": [
    {
     "name": "stdout",
     "output_type": "stream",
     "text": [
      "R-Squared:  0.9002154211103929\n",
      "MAE:  1.0836938539970562\n",
      "MSE:  1.0101650030675435\n",
      "RMSE:  1.1057975374159328\n"
     ]
    }
   ],
   "source": [
    "regr = grid_search.best_estimator_\n",
    "regr.fit(X_train_1, y_train_1) \n",
    "predicted_values = regr.predict(X_test)\n",
    "\n",
    "give_npe_metrics(predicted_values=predicted_values,y_test=y_test)"
   ]
  },
  {
   "cell_type": "markdown",
   "id": "ffe4dcdf",
   "metadata": {},
   "source": [
    "## FInal model explains about 90% of prices variance.  MAE is close to 1, that means model is wrong by an average of a thousand dollars. The two main reasons to use XGBoost are execution speed and model performance. XGBoost dominates structured or tabular datasets on classification and regression predictive modeling problems. The evidence is that it is the go-to algorithm for competition winners on the Kaggle competitive data science platform. Ensemble algorithms (DecisionTree,RandomForest,XGBoost)  don't need scaled data, thats why standardization doesn't have significant impact on results. Only Linear Regressor should improve its results on scaled data, but it got worse. \n",
    "\n",
    "## All algorithms gave similar results, but XGBoost was the best, RandomForest took second place. Both algorithms performed better on the default parameters. \n",
    "\n",
    "## In my opinion the only way to improve the results would be to choose better parameters into GRID, better features or transformations. But 0.9 R_squared is a passable result."
   ]
  },
  {
   "cell_type": "code",
   "execution_count": null,
   "id": "a4ee98e5",
   "metadata": {},
   "outputs": [],
   "source": []
  }
 ],
 "metadata": {
  "kernelspec": {
   "display_name": "Python 3.9.13 64-bit (windows store)",
   "language": "python",
   "name": "python3"
  },
  "language_info": {
   "codemirror_mode": {
    "name": "ipython",
    "version": 3
   },
   "file_extension": ".py",
   "mimetype": "text/x-python",
   "name": "python",
   "nbconvert_exporter": "python",
   "pygments_lexer": "ipython3",
   "version": "3.9.13"
  },
  "vscode": {
   "interpreter": {
    "hash": "7f99272624b89b4926def318279745b3e5c02212f32fd625dd4a1ee28e46b73a"
   }
  }
 },
 "nbformat": 4,
 "nbformat_minor": 5
}
